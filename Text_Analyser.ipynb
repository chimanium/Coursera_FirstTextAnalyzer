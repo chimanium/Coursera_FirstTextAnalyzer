{
  "metadata": {
    "kernelspec": {
      "name": "python",
      "display_name": "Python (Pyodide)",
      "language": "python"
    },
    "language_info": {
      "codemirror_mode": {
        "name": "python",
        "version": 3
      },
      "file_extension": ".py",
      "mimetype": "text/x-python",
      "name": "python",
      "nbconvert_exporter": "python",
      "pygments_lexer": "ipython3",
      "version": "3.8"
    }
  },
  "nbformat_minor": 4,
  "nbformat": 4,
  "cells": [
    {
      "cell_type": "code",
      "source": "# For the Text Analyzer Lab\n\ngivenString = 'Lorem ipsum dolor! diam amet, consetetur Lorem magna. sed diam nonumy eirmod tempor. diam et labore? et diam magna. et diam amet'",
      "metadata": {
        "trusted": true
      },
      "outputs": [],
      "execution_count": 1
    },
    {
      "cell_type": "code",
      "source": "print (givenString)",
      "metadata": {
        "trusted": true
      },
      "outputs": [
        {
          "name": "stdout",
          "text": "Lorem ipsum dolor! diam amet, consetetur Lorem magna. sed diam nonumy eirmod tempor. diam et labore? et diam magna. et diam amet\n",
          "output_type": "stream"
        }
      ],
      "execution_count": 3
    },
    {
      "cell_type": "code",
      "source": "# Creating  a class and its attributes\n\nclass TextAnalyzer(object):\n\n    def __init__ (self, text):\n        #replacing or removing punctuations\n        formattedText = text.replace('.', '').replace('!', '').replace('?', '').replace(',', '').replace('^','')\n        #making words to be lower case \n        self.fmrText= formatedText.lower()\n\n    def FreqAll(self):\n        #split text\n        WordList = self.fmrText.split(' ')\n        \n        #create Dictionary that's empty\n        FreqMap = {}\n        for word in set(WordList):\n            FreqMap[word] = WordList.count(word)\n        return FreqMap\n\n        def FreqAll(self, word):\n            FreeDict = self.FreqAll\n\n            if word in FreeDict:\n                return FreeDict[word]\n            else:\n                return 0\n            ",
      "metadata": {
        "trusted": true
      },
      "outputs": [],
      "execution_count": 6
    },
    {
      "cell_type": "code",
      "source": "",
      "metadata": {
        "trusted": true
      },
      "outputs": [],
      "execution_count": null
    }
  ]
}